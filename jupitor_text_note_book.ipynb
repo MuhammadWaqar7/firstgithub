{
 "cells": [
  {
   "cell_type": "markdown",
   "id": "b5882aff",
   "metadata": {},
   "source": [
    "# Python ka chilla with baba ammar\n",
    "## How to use Jupyter Note Book\n",
    "### Basics of python\n",
    "1.My first program \n",
    "2.My Second program\n",
    "3.My Third Program"
   ]
  },
  {
   "cell_type": "markdown",
   "id": "7968e5ab",
   "metadata": {},
   "source": [
    "### 01.my_first_program in python"
   ]
  },
  {
   "cell_type": "code",
   "execution_count": null,
   "id": "e6e61a64",
   "metadata": {},
   "outputs": [
    {
     "name": "stdout",
     "output_type": "stream",
     "text": [
      "5\n",
      "hello world\n",
      "we are learing python with baba ammar\n"
     ]
    }
   ],
   "source": [
    "# my_first_program in python\n",
    "print(2+3)\n",
    "print(\"hello world\")\n",
    "print(\"we are learing python with baba ammar\")"
   ]
  },
  {
   "cell_type": "markdown",
   "id": "0642e788",
   "metadata": {},
   "source": [
    "### 02.Operators"
   ]
  },
  {
   "cell_type": "code",
   "execution_count": null,
   "id": "a7ab151b",
   "metadata": {},
   "outputs": [
    {
     "name": "stdout",
     "output_type": "stream",
     "text": [
      "22\n",
      "6\n",
      "1\n",
      "51\n",
      "216\n",
      "22.5\n",
      "16\n",
      "27\n",
      "pakistan is my country\n",
      "6.5\n"
     ]
    }
   ],
   "source": [
    "print(20+2)\n",
    "print(2*3)\n",
    "print(13%2)\n",
    "print(45+6)\n",
    "print(6**3)\n",
    "print(45/2) \n",
    "print(4**2)\n",
    "print(25+2)\n",
    "print(\"pakistan is my country\")\n",
    "print(3**2/2*3/3+6-4)"
   ]
  },
  {
   "cell_type": "markdown",
   "id": "d18d4593",
   "metadata": {},
   "source": [
    "### 03.Strings"
   ]
  },
  {
   "cell_type": "code",
   "execution_count": null,
   "id": "7e85b7ec",
   "metadata": {},
   "outputs": [
    {
     "name": "stdout",
     "output_type": "stream",
     "text": [
      "hello world\n",
      "we are learning python wiht baba ammar\n",
      "test for singes quotes\n",
      "test for double quotes\n",
      "test fro tripples quotes\n",
      "what's up?\n"
     ]
    }
   ],
   "source": [
    "print(\"hello world\")\n",
    "print(\"we are learning python wiht baba ammar\")\n",
    "print('test for singes quotes')\n",
    "print(\"test for double quotes\")\n",
    "print('''test fro tripples quotes''')\n",
    "print(\"what's up?\")"
   ]
  },
  {
   "cell_type": "markdown",
   "id": "6cfed64d",
   "metadata": {},
   "source": [
    "### 04.Variables"
   ]
  },
  {
   "cell_type": "markdown",
   "id": "8cbd157e",
   "metadata": {},
   "source": [
    "*#rules to assgign a variables\"\n",
    "1- the variable should letters,number or underscore\n",
    "2-do not start with numbers\n",
    "3-spaces are not allowed\n",
    "4-do not use keyword used in function{break,mean,medain,test etc.}\n",
    "5 short and descriptive\n",
    "6 case senstivity(lowercase,uppercase letters lower case letters should be used)*"
   ]
  },
  {
   "cell_type": "code",
   "execution_count": null,
   "id": "a71272e5",
   "metadata": {},
   "outputs": [
    {
     "name": "stdout",
     "output_type": "stream",
     "text": [
      "3\n",
      "my name is waqar\n",
      "37\n",
      "<class 'int'>\n",
      "mangos\n",
      "mangos\n"
     ]
    }
   ],
   "source": [
    "x=3\n",
    "print(x)\n",
    "y=\"my name is waqar\"\n",
    "print(y)\n",
    "x=x+34\n",
    "print(x)\n",
    "# types of variables\n",
    "type(x)\n",
    "print(type(x))\n",
    "# print(type(y))\n",
    "fruite_basket=\"mangos\"\n",
    "# del fruit_basket #del for delet we ues delet the code\n",
    "# del fruite_basket\n",
    "print(fruite_basket)\n",
    "print(fruite_basket)"
   ]
  },
  {
   "cell_type": "markdown",
   "id": "ab46008d",
   "metadata": {},
   "source": [
    "### 05.Comment"
   ]
  },
  {
   "cell_type": "code",
   "execution_count": null,
   "id": "8e109a8f",
   "metadata": {},
   "outputs": [
    {
     "name": "stdout",
     "output_type": "stream",
     "text": [
      "learnig python with baba ammar\n",
      "my aim is learn python \n",
      "8\n"
     ]
    }
   ],
   "source": [
    "print(\"learnig python with baba ammar\") # print the text simply\n",
    "print(\"my aim is learn python \") #print the text simply\n",
    "print(2+6) # print the functioned with thise numbers"
   ]
  },
  {
   "cell_type": "markdown",
   "id": "07bc4c92",
   "metadata": {},
   "source": [
    "### Input veriables"
   ]
  },
  {
   "cell_type": "code",
   "execution_count": 10,
   "id": "82b26be8",
   "metadata": {},
   "outputs": [
    {
     "name": "stdout",
     "output_type": "stream",
     "text": [
      "loki\n",
      "loki\n",
      "Hello! \n"
     ]
    }
   ],
   "source": [
    "vegetables_basket=\"loki\"\n",
    "print(vegetables_basket)\n",
    "print(vegetables_basket)\n",
    "name = input(\"what is your name? \")\n",
    "greetings=\"Hello!\"\n",
    "print(greetings, name)\n",
    "# another way of stage 2 input function\n",
    "\n",
    "#3rd stage input function\n",
    "name= input(\"what is your name? \")\n",
    "age= input(\"how old are you? \")\n",
    "greeting=\"Hello!\"\n",
    "print(greeting, name,\"you are still young\")"
   ]
  },
  {
   "cell_type": "markdown",
   "id": "288f4949",
   "metadata": {},
   "source": [
    "### 07 Conditional logic"
   ]
  },
  {
   "cell_type": "markdown",
   "id": "ce7833b0",
   "metadata": {},
   "source": [
    "= to ==\n",
    "less than  <\n",
    "greater than >\n",
    "less than and eqaul to <=\n",
    "greater than and equal to >=\n",
    "not equal to !="
   ]
  },
  {
   "cell_type": "code",
   "execution_count": null,
   "id": "6cdc5cdf",
   "metadata": {},
   "outputs": [],
   "source": []
  },
  {
   "cell_type": "code",
   "execution_count": null,
   "id": "0ce17ece",
   "metadata": {},
   "outputs": [],
   "source": [
    "\n",
    "# is 4 equal to 4?\n",
    "print(4==4)\n",
    "print(5!=5)\n",
    "print(5>4)\n",
    "print(4>5)\n",
    "print(3<=5)\n",
    "print(6>=5)"
   ]
  },
  {
   "cell_type": "markdown",
   "id": "f2d9a261",
   "metadata": {},
   "source": [
    "*application of logical operator*"
   ]
  },
  {
   "cell_type": "code",
   "execution_count": null,
   "id": "3962bc79",
   "metadata": {},
   "outputs": [],
   "source": [
    "hammad_age=4\n",
    "age_at_school=5\n",
    "print(hammad_age==age_at_school)\n",
    "age_at_school=5\n",
    "hammad_age=input(\"how old is hammad? \")\n",
    "hammad_age=int(hammad_age)\n",
    "print(hammad_age==age_at_school)"
   ]
  },
  {
   "cell_type": "markdown",
   "id": "a7072689",
   "metadata": {},
   "source": [
    "### 08 Type conversion"
   ]
  },
  {
   "cell_type": "code",
   "execution_count": null,
   "id": "3d695645",
   "metadata": {},
   "outputs": [],
   "source": [
    "x=10 #interger\n",
    "y=10.2 #float\n",
    "z=\"hello\" #str\n",
    "x= x+y\n",
    "# implicit type of coversions\n",
    "print(x,\"type of x is:\",type(x))\n",
    "\n",
    "# explicit type of conversion\n",
    "age=input(\"what is your age? \")\n",
    "age=int(age)\n",
    "print(age,type(age))\n",
    "from unicodedata import name\n",
    "\n",
    "\n",
    "name=input(\"what is your name? \")\n",
    "print(name,type(int()))"
   ]
  },
  {
   "cell_type": "markdown",
   "id": "d64af3d0",
   "metadata": {},
   "source": [
    "### 09 if else elife"
   ]
  },
  {
   "cell_type": "code",
   "execution_count": null,
   "id": "60d27c15",
   "metadata": {},
   "outputs": [],
   "source": [
    "required_age_at_school=4\n",
    "hammad_age = 5\n",
    "hammad_age=input(type)(int)\n",
    "# def new_func():\n",
    "#     return else:\n",
    "\n",
    "def new_func():\n",
    "    return 2\n",
    "\n",
    "hammad_age = 4\n",
    "if hammad_age==required_age_at_school:\n",
    "    print(\"hammad can join the school \")\n",
    "elif hammad_age > required_age_at_school:\n",
    "    print(\"hammad should go to colledge\")\n",
    "elif hammad_age <= required_age_at_school:\n",
    "    else:\n",
    "print (\"hammad can not go to scholl\")\n"
   ]
  },
  {
   "cell_type": "markdown",
   "id": "c9e4f26f",
   "metadata": {},
   "source": [
    "### 10_funcion"
   ]
  },
  {
   "cell_type": "markdown",
   "id": "5e1f5e24",
   "metadata": {},
   "source": [
    " Defining a functions\n",
    "#### if,elif,else statment clear\n",
    " Defining function of future"
   ]
  },
  {
   "cell_type": "code",
   "execution_count": null,
   "id": "935e24d2",
   "metadata": {},
   "outputs": [],
   "source": [
    "print(\"we are learning with ammar\")\n",
    "print(\"we are learning with ammar\")\n",
    "print(\"we are learning with ammar\")\n",
    "print(\"we are learning with ammar\")\n",
    "print(\"we are learning with ammar\")\n",
    "\n",
    "#1\n",
    "def print_codanics():\n",
    "    print(\"we are learning with ammar\")\n",
    "print(\"we are learning with ammar\")\n",
    "print(\"we are learning with ammar\")\n",
    "print(\"we are learning with ammar\")\n",
    "print(\"we are learning with ammar\")\n",
    "print_codanics()\n",
    "#2\n",
    "def print_waqar():\n",
    "    text=\"minor talks disheart sammaler people but i am confiuse about people thinking why it is so far\"\n",
    "    print(text)\n",
    "    print(text)\n",
    "    print(text)\n",
    "    print(text)\n",
    "    print(text)\n",
    "\n",
    "    \n",
    "\n",
    "def school_calculator(age,text):\n",
    "    if age==5:\n",
    "        print(\"adnan can join the school\")\n",
    "    elif age>5:\n",
    "        print(\"hammad should go to higher school\")\n",
    "    else:\n",
    "        print(\"hammad still a baby\")\n",
    "school_calculator(2,\"hammad\")\n",
    "\n",
    "def future_age(age):\n",
    "    new_age=age+30\n",
    "    return new_age\n",
    "    print(new_age)\n",
    "future_prdicted_age=future_age(50)\n",
    "print(future_prdicted_age)"
   ]
  },
  {
   "cell_type": "markdown",
   "id": "371bb33e",
   "metadata": {},
   "source": [
    "### 11_loops"
   ]
  },
  {
   "cell_type": "markdown",
   "id": "39d822c7",
   "metadata": {},
   "source": [
    "#while and for loops\n",
    "#while loops and for loops"
   ]
  },
  {
   "cell_type": "code",
   "execution_count": null,
   "id": "c706b4ab",
   "metadata": {},
   "outputs": [],
   "source": [
    "#while and for loops\n",
    "#while loops\n",
    "x=0\n",
    "while(x<=10):\n",
    "        print(x)\n",
    "        x=x+1\n",
    " #for loops\n",
    "for x in range(0,5): \n",
    "        print(x)\n",
    "# array\n",
    "days = [\"mon\",\"tue\",\"wed\",\"thr\",\"fri\",\"stu\",\"sund\"]\n",
    "\n",
    "for d in days:\n",
    "    # if (d==\"fri\"):break #loops stop\n",
    "    if (d==\"fri\"):continue # skip\n",
    "    print(d)"
   ]
  },
  {
   "cell_type": "markdown",
   "id": "7ad27599",
   "metadata": {},
   "source": [
    "### 12_Imports library"
   ]
  },
  {
   "cell_type": "code",
   "execution_count": null,
   "id": "e665e676",
   "metadata": {},
   "outputs": [],
   "source": [
    "#if you want to print the value of pi\n",
    "\n",
    "import math\n",
    "print(\"the vaule of pi is\",math.pi)\n",
    "import statistics\n",
    "x=[15,25,35,45,55,155]\n",
    "print(statistics.mean(x))\n",
    "# numpy,pandas"
   ]
  },
  {
   "cell_type": "markdown",
   "id": "246935cd",
   "metadata": {},
   "source": [
    "### 13_Troubleshooting"
   ]
  },
  {
   "cell_type": "code",
   "execution_count": null,
   "id": "631bfebe",
   "metadata": {},
   "outputs": [],
   "source": [
    "print(\"we are learing wiht ammar\")\n",
    "print(25/0)\n",
    "name=\"ammar\"\n",
    "print(\"hellow\", name)"
   ]
  },
  {
   "cell_type": "markdown",
   "id": "69d3ab95",
   "metadata": {},
   "source": [
    "<span style=\"color:2a9d8f\">\n",
    "\"this text color is red\"\n",
    "</span>"
   ]
  },
  {
   "cell_type": "markdown",
   "id": "bf821daf",
   "metadata": {},
   "source": [
    "<span style=\"color:2a9d8f\">\n",
    "\"this text color is red\"\n",
    "</span>"
   ]
  },
  {
   "cell_type": "markdown",
   "id": "1381c1b2",
   "metadata": {},
   "source": [
    "<span style=\"color:2a9d8f\">\n",
    "\"this text color is red\"\n",
    "</span>"
   ]
  },
  {
   "cell_type": "markdown",
   "id": "03de9a73",
   "metadata": {},
   "source": []
  },
  {
   "cell_type": "markdown",
   "id": "2297adfb",
   "metadata": {},
   "source": []
  },
  {
   "cell_type": "markdown",
   "id": "45a4cbca",
   "metadata": {},
   "source": [
    "in-line math"
   ]
  },
  {
   "cell_type": "code",
   "execution_count": null,
   "id": "6d2b664d",
   "metadata": {},
   "outputs": [
    {
     "ename": "SyntaxError",
     "evalue": "invalid syntax (<ipython-input-3-2cfd718ea4e2>, line 1)",
     "output_type": "error",
     "traceback": [
      "\u001b[1;36m  File \u001b[1;32m\"<ipython-input-3-2cfd718ea4e2>\"\u001b[1;36m, line \u001b[1;32m1\u001b[0m\n\u001b[1;33m    in-line math\u001b[0m\n\u001b[1;37m    ^\u001b[0m\n\u001b[1;31mSyntaxError\u001b[0m\u001b[1;31m:\u001b[0m invalid syntax\n"
     ]
    }
   ],
   "source": [
    "in-line math"
   ]
  },
  {
   "cell_type": "code",
   "execution_count": null,
   "id": "05c2954c",
   "metadata": {},
   "outputs": [
    {
     "ename": "SyntaxError",
     "evalue": "invalid syntax (<ipython-input-2-dc01a882f321>, line 1)",
     "output_type": "error",
     "traceback": [
      "\u001b[1;36m  File \u001b[1;32m\"<ipython-input-2-dc01a882f321>\"\u001b[1;36m, line \u001b[1;32m1\u001b[0m\n\u001b[1;33m    $this_{is}^{inline}$\u001b[0m\n\u001b[1;37m    ^\u001b[0m\n\u001b[1;31mSyntaxError\u001b[0m\u001b[1;31m:\u001b[0m invalid syntax\n"
     ]
    }
   ],
   "source": [
    "$this_{is}^{inline}$"
   ]
  },
  {
   "cell_type": "code",
   "execution_count": null,
   "id": "5639a6c2",
   "metadata": {},
   "outputs": [
    {
     "ename": "SyntaxError",
     "evalue": "invalid syntax (<ipython-input-4-dc01a882f321>, line 1)",
     "output_type": "error",
     "traceback": [
      "\u001b[1;36m  File \u001b[1;32m\"<ipython-input-4-dc01a882f321>\"\u001b[1;36m, line \u001b[1;32m1\u001b[0m\n\u001b[1;33m    $this_{is}^{inline}$\u001b[0m\n\u001b[1;37m    ^\u001b[0m\n\u001b[1;31mSyntaxError\u001b[0m\u001b[1;31m:\u001b[0m invalid syntax\n"
     ]
    }
   ],
   "source": [
    "$this_{is}^{inline}$\n"
   ]
  },
  {
   "cell_type": "markdown",
   "id": "e35f8056",
   "metadata": {},
   "source": []
  },
  {
   "cell_type": "markdown",
   "id": "0ab42bce",
   "metadata": {},
   "source": []
  }
 ],
 "metadata": {
  "interpreter": {
   "hash": "624fa89c4ee7c16d21ddb339d0566547fdb16043f33feed1a4ee18a4f302cade"
  },
  "kernelspec": {
   "display_name": "Python 3.8.8 ('base')",
   "language": "python",
   "name": "python3"
  },
  "language_info": {
   "codemirror_mode": {
    "name": "ipython",
    "version": 3
   },
   "file_extension": ".py",
   "mimetype": "text/x-python",
   "name": "python",
   "nbconvert_exporter": "python",
   "pygments_lexer": "ipython3",
   "version": "3.8.8"
  }
 },
 "nbformat": 4,
 "nbformat_minor": 5
}
